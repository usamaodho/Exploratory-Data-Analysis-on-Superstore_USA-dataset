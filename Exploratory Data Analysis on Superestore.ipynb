{
 "cells": [
  {
   "cell_type": "markdown",
   "id": "cd359357",
   "metadata": {},
   "source": [
    "# <b>Exploratory  Data Analysis on Superestore</b>"
   ]
  },
  {
   "cell_type": "markdown",
   "id": "84706aa9",
   "metadata": {},
   "source": [
    "Import the required libraries for Analysis"
   ]
  },
  {
   "cell_type": "code",
   "execution_count": 1,
   "id": "72bc1900",
   "metadata": {},
   "outputs": [],
   "source": [
    "import numpy as np\n",
    "import pandas as pd\n",
    "import matplotlib.pyplot as plt\n",
    "import seaborn as sns"
   ]
  },
  {
   "cell_type": "markdown",
   "id": "70f10bcb",
   "metadata": {},
   "source": [
    "Load the Dataset in the pandas"
   ]
  },
  {
   "cell_type": "code",
   "execution_count": 2,
   "id": "d6955a64",
   "metadata": {},
   "outputs": [
    {
     "data": {
      "application/vnd.microsoft.datawrangler.viewer.v0+json": {
       "columns": [
        {
         "name": "index",
         "rawType": "int64",
         "type": "integer"
        },
        {
         "name": "Row ID",
         "rawType": "int64",
         "type": "integer"
        },
        {
         "name": "Order Priority",
         "rawType": "object",
         "type": "string"
        },
        {
         "name": "Discount",
         "rawType": "float64",
         "type": "float"
        },
        {
         "name": "Unit Price",
         "rawType": "float64",
         "type": "float"
        },
        {
         "name": "Shipping Cost",
         "rawType": "float64",
         "type": "float"
        },
        {
         "name": "Customer ID",
         "rawType": "int64",
         "type": "integer"
        },
        {
         "name": "Customer Name",
         "rawType": "object",
         "type": "string"
        },
        {
         "name": "Ship Mode",
         "rawType": "object",
         "type": "string"
        },
        {
         "name": "Customer Segment",
         "rawType": "object",
         "type": "string"
        },
        {
         "name": "Product Category",
         "rawType": "object",
         "type": "string"
        },
        {
         "name": "Product Sub-Category",
         "rawType": "object",
         "type": "string"
        },
        {
         "name": "Product Container",
         "rawType": "object",
         "type": "string"
        },
        {
         "name": "Product Name",
         "rawType": "object",
         "type": "string"
        },
        {
         "name": "Product Base Margin",
         "rawType": "float64",
         "type": "float"
        },
        {
         "name": "Region",
         "rawType": "object",
         "type": "string"
        },
        {
         "name": "State or Province",
         "rawType": "object",
         "type": "string"
        },
        {
         "name": "City",
         "rawType": "object",
         "type": "string"
        },
        {
         "name": "Postal Code",
         "rawType": "int64",
         "type": "integer"
        },
        {
         "name": "Order Date",
         "rawType": "object",
         "type": "string"
        },
        {
         "name": "Ship Date",
         "rawType": "object",
         "type": "string"
        },
        {
         "name": "Profit",
         "rawType": "float64",
         "type": "float"
        },
        {
         "name": "Quantity ordered new",
         "rawType": "int64",
         "type": "integer"
        },
        {
         "name": "Sales",
         "rawType": "float64",
         "type": "float"
        },
        {
         "name": "Order ID",
         "rawType": "int64",
         "type": "integer"
        }
       ],
       "ref": "902302ac-e655-425f-9e2e-0d15bf101496",
       "rows": [
        [
         "0",
         "18606",
         "Not Specified",
         "0.01",
         "2.88",
         "0.5",
         "2",
         "Janice Fletcher",
         "Regular Air",
         "Corporate",
         "Office Supplies",
         "Labels",
         "Small Box",
         "Avery 49",
         "0.36",
         "Central",
         "Illinois",
         "Addison",
         "60101",
         "5/28/2012",
         "5/30/2012",
         "1.32",
         "2",
         "5.9",
         "88525"
        ],
        [
         "1",
         "20847",
         "High",
         "0.01",
         "2.84",
         "0.93",
         "3",
         "Bonnie Potter",
         "Express Air",
         "Corporate",
         "Office Supplies",
         "Pens & Art Supplies",
         "Wrap Bag",
         "SANFORD Liquid Accent™ Tank-Style Highlighters",
         "0.54",
         "West",
         "Washington",
         "Anacortes",
         "98221",
         "7/7/2010",
         "7/8/2010",
         "4.56",
         "4",
         "13.01",
         "88522"
        ],
        [
         "2",
         "23086",
         "Not Specified",
         "0.03",
         "6.68",
         "6.15",
         "3",
         "Bonnie Potter",
         "Express Air",
         "Corporate",
         "Office Supplies",
         "Paper",
         "Small Box",
         "Xerox 1968",
         "0.37",
         "West",
         "Washington",
         "Anacortes",
         "98221",
         "7/27/2011",
         "7/28/2011",
         "-47.64",
         "7",
         "49.92",
         "88523"
        ],
        [
         "3",
         "23087",
         "Not Specified",
         "0.01",
         "5.68",
         "3.6",
         "3",
         "Bonnie Potter",
         "Regular Air",
         "Corporate",
         "Office Supplies",
         "Scissors, Rulers and Trimmers",
         "Small Pack",
         "Acme® Preferred Stainless Steel Scissors",
         "0.56",
         "West",
         "Washington",
         "Anacortes",
         "98221",
         "7/27/2011",
         "7/28/2011",
         "-30.51",
         "7",
         "41.64",
         "88523"
        ],
        [
         "4",
         "23088",
         "Not Specified",
         "0.0",
         "205.99",
         "2.5",
         "3",
         "Bonnie Potter",
         "Express Air",
         "Corporate",
         "Technology",
         "Telephones and Communication",
         "Small Box",
         "V70",
         "0.59",
         "West",
         "Washington",
         "Anacortes",
         "98221",
         "7/27/2011",
         "7/27/2011",
         "998.2023",
         "8",
         "1446.67",
         "88523"
        ]
       ],
       "shape": {
        "columns": 24,
        "rows": 5
       }
      },
      "text/html": [
       "<div>\n",
       "<style scoped>\n",
       "    .dataframe tbody tr th:only-of-type {\n",
       "        vertical-align: middle;\n",
       "    }\n",
       "\n",
       "    .dataframe tbody tr th {\n",
       "        vertical-align: top;\n",
       "    }\n",
       "\n",
       "    .dataframe thead th {\n",
       "        text-align: right;\n",
       "    }\n",
       "</style>\n",
       "<table border=\"1\" class=\"dataframe\">\n",
       "  <thead>\n",
       "    <tr style=\"text-align: right;\">\n",
       "      <th></th>\n",
       "      <th>Row ID</th>\n",
       "      <th>Order Priority</th>\n",
       "      <th>Discount</th>\n",
       "      <th>Unit Price</th>\n",
       "      <th>Shipping Cost</th>\n",
       "      <th>Customer ID</th>\n",
       "      <th>Customer Name</th>\n",
       "      <th>Ship Mode</th>\n",
       "      <th>Customer Segment</th>\n",
       "      <th>Product Category</th>\n",
       "      <th>...</th>\n",
       "      <th>Region</th>\n",
       "      <th>State or Province</th>\n",
       "      <th>City</th>\n",
       "      <th>Postal Code</th>\n",
       "      <th>Order Date</th>\n",
       "      <th>Ship Date</th>\n",
       "      <th>Profit</th>\n",
       "      <th>Quantity ordered new</th>\n",
       "      <th>Sales</th>\n",
       "      <th>Order ID</th>\n",
       "    </tr>\n",
       "  </thead>\n",
       "  <tbody>\n",
       "    <tr>\n",
       "      <th>0</th>\n",
       "      <td>18606</td>\n",
       "      <td>Not Specified</td>\n",
       "      <td>0.01</td>\n",
       "      <td>2.88</td>\n",
       "      <td>0.50</td>\n",
       "      <td>2</td>\n",
       "      <td>Janice Fletcher</td>\n",
       "      <td>Regular Air</td>\n",
       "      <td>Corporate</td>\n",
       "      <td>Office Supplies</td>\n",
       "      <td>...</td>\n",
       "      <td>Central</td>\n",
       "      <td>Illinois</td>\n",
       "      <td>Addison</td>\n",
       "      <td>60101</td>\n",
       "      <td>5/28/2012</td>\n",
       "      <td>5/30/2012</td>\n",
       "      <td>1.3200</td>\n",
       "      <td>2</td>\n",
       "      <td>5.90</td>\n",
       "      <td>88525</td>\n",
       "    </tr>\n",
       "    <tr>\n",
       "      <th>1</th>\n",
       "      <td>20847</td>\n",
       "      <td>High</td>\n",
       "      <td>0.01</td>\n",
       "      <td>2.84</td>\n",
       "      <td>0.93</td>\n",
       "      <td>3</td>\n",
       "      <td>Bonnie Potter</td>\n",
       "      <td>Express Air</td>\n",
       "      <td>Corporate</td>\n",
       "      <td>Office Supplies</td>\n",
       "      <td>...</td>\n",
       "      <td>West</td>\n",
       "      <td>Washington</td>\n",
       "      <td>Anacortes</td>\n",
       "      <td>98221</td>\n",
       "      <td>7/7/2010</td>\n",
       "      <td>7/8/2010</td>\n",
       "      <td>4.5600</td>\n",
       "      <td>4</td>\n",
       "      <td>13.01</td>\n",
       "      <td>88522</td>\n",
       "    </tr>\n",
       "    <tr>\n",
       "      <th>2</th>\n",
       "      <td>23086</td>\n",
       "      <td>Not Specified</td>\n",
       "      <td>0.03</td>\n",
       "      <td>6.68</td>\n",
       "      <td>6.15</td>\n",
       "      <td>3</td>\n",
       "      <td>Bonnie Potter</td>\n",
       "      <td>Express Air</td>\n",
       "      <td>Corporate</td>\n",
       "      <td>Office Supplies</td>\n",
       "      <td>...</td>\n",
       "      <td>West</td>\n",
       "      <td>Washington</td>\n",
       "      <td>Anacortes</td>\n",
       "      <td>98221</td>\n",
       "      <td>7/27/2011</td>\n",
       "      <td>7/28/2011</td>\n",
       "      <td>-47.6400</td>\n",
       "      <td>7</td>\n",
       "      <td>49.92</td>\n",
       "      <td>88523</td>\n",
       "    </tr>\n",
       "    <tr>\n",
       "      <th>3</th>\n",
       "      <td>23087</td>\n",
       "      <td>Not Specified</td>\n",
       "      <td>0.01</td>\n",
       "      <td>5.68</td>\n",
       "      <td>3.60</td>\n",
       "      <td>3</td>\n",
       "      <td>Bonnie Potter</td>\n",
       "      <td>Regular Air</td>\n",
       "      <td>Corporate</td>\n",
       "      <td>Office Supplies</td>\n",
       "      <td>...</td>\n",
       "      <td>West</td>\n",
       "      <td>Washington</td>\n",
       "      <td>Anacortes</td>\n",
       "      <td>98221</td>\n",
       "      <td>7/27/2011</td>\n",
       "      <td>7/28/2011</td>\n",
       "      <td>-30.5100</td>\n",
       "      <td>7</td>\n",
       "      <td>41.64</td>\n",
       "      <td>88523</td>\n",
       "    </tr>\n",
       "    <tr>\n",
       "      <th>4</th>\n",
       "      <td>23088</td>\n",
       "      <td>Not Specified</td>\n",
       "      <td>0.00</td>\n",
       "      <td>205.99</td>\n",
       "      <td>2.50</td>\n",
       "      <td>3</td>\n",
       "      <td>Bonnie Potter</td>\n",
       "      <td>Express Air</td>\n",
       "      <td>Corporate</td>\n",
       "      <td>Technology</td>\n",
       "      <td>...</td>\n",
       "      <td>West</td>\n",
       "      <td>Washington</td>\n",
       "      <td>Anacortes</td>\n",
       "      <td>98221</td>\n",
       "      <td>7/27/2011</td>\n",
       "      <td>7/27/2011</td>\n",
       "      <td>998.2023</td>\n",
       "      <td>8</td>\n",
       "      <td>1446.67</td>\n",
       "      <td>88523</td>\n",
       "    </tr>\n",
       "  </tbody>\n",
       "</table>\n",
       "<p>5 rows × 24 columns</p>\n",
       "</div>"
      ],
      "text/plain": [
       "   Row ID Order Priority  Discount  Unit Price  Shipping Cost  Customer ID  \\\n",
       "0   18606  Not Specified      0.01        2.88           0.50            2   \n",
       "1   20847           High      0.01        2.84           0.93            3   \n",
       "2   23086  Not Specified      0.03        6.68           6.15            3   \n",
       "3   23087  Not Specified      0.01        5.68           3.60            3   \n",
       "4   23088  Not Specified      0.00      205.99           2.50            3   \n",
       "\n",
       "     Customer Name    Ship Mode Customer Segment Product Category  ...  \\\n",
       "0  Janice Fletcher  Regular Air        Corporate  Office Supplies  ...   \n",
       "1    Bonnie Potter  Express Air        Corporate  Office Supplies  ...   \n",
       "2    Bonnie Potter  Express Air        Corporate  Office Supplies  ...   \n",
       "3    Bonnie Potter  Regular Air        Corporate  Office Supplies  ...   \n",
       "4    Bonnie Potter  Express Air        Corporate       Technology  ...   \n",
       "\n",
       "    Region State or Province       City  Postal Code Order Date  Ship Date  \\\n",
       "0  Central          Illinois    Addison        60101  5/28/2012  5/30/2012   \n",
       "1     West        Washington  Anacortes        98221   7/7/2010   7/8/2010   \n",
       "2     West        Washington  Anacortes        98221  7/27/2011  7/28/2011   \n",
       "3     West        Washington  Anacortes        98221  7/27/2011  7/28/2011   \n",
       "4     West        Washington  Anacortes        98221  7/27/2011  7/27/2011   \n",
       "\n",
       "     Profit  Quantity ordered new    Sales Order ID  \n",
       "0    1.3200                     2     5.90    88525  \n",
       "1    4.5600                     4    13.01    88522  \n",
       "2  -47.6400                     7    49.92    88523  \n",
       "3  -30.5100                     7    41.64    88523  \n",
       "4  998.2023                     8  1446.67    88523  \n",
       "\n",
       "[5 rows x 24 columns]"
      ]
     },
     "execution_count": 2,
     "metadata": {},
     "output_type": "execute_result"
    }
   ],
   "source": [
    "dataset = pd.read_csv('Superstore_USA_CSV.csv')\n",
    "dataset.head(5)"
   ]
  },
  {
   "cell_type": "markdown",
   "id": "9f9db148",
   "metadata": {},
   "source": [
    "Check the info about dataset means amount of rows and cols"
   ]
  },
  {
   "cell_type": "code",
   "execution_count": 3,
   "id": "5ddf1767",
   "metadata": {},
   "outputs": [
    {
     "data": {
      "text/plain": [
       "(9426, 24)"
      ]
     },
     "execution_count": 3,
     "metadata": {},
     "output_type": "execute_result"
    }
   ],
   "source": [
    "dataset.shape"
   ]
  },
  {
   "cell_type": "markdown",
   "id": "a71d8ddc",
   "metadata": {},
   "source": [
    "First all of Data cleaning:<br>Cheach the amount of null vaule in the dataset."
   ]
  },
  {
   "cell_type": "code",
   "execution_count": 21,
   "id": "dd839fe1",
   "metadata": {},
   "outputs": [
    {
     "data": {
      "application/vnd.microsoft.datawrangler.viewer.v0+json": {
       "columns": [
        {
         "name": "index",
         "rawType": "object",
         "type": "string"
        },
        {
         "name": "0",
         "rawType": "int64",
         "type": "integer"
        }
       ],
       "ref": "12663285-2056-4146-85ba-06c4fce198a0",
       "rows": [
        [
         "Row ID",
         "0"
        ],
        [
         "Order Priority",
         "0"
        ],
        [
         "Discount",
         "0"
        ],
        [
         "Unit Price",
         "0"
        ],
        [
         "Shipping Cost",
         "0"
        ],
        [
         "Customer ID",
         "0"
        ],
        [
         "Customer Name",
         "0"
        ],
        [
         "Ship Mode",
         "0"
        ],
        [
         "Customer Segment",
         "0"
        ],
        [
         "Product Category",
         "0"
        ],
        [
         "Product Sub-Category",
         "0"
        ],
        [
         "Product Container",
         "0"
        ],
        [
         "Product Name",
         "0"
        ],
        [
         "Product Base Margin",
         "72"
        ],
        [
         "Region",
         "0"
        ],
        [
         "State or Province",
         "0"
        ],
        [
         "City",
         "0"
        ],
        [
         "Postal Code",
         "0"
        ],
        [
         "Order Date",
         "0"
        ],
        [
         "Ship Date",
         "0"
        ],
        [
         "Profit",
         "0"
        ],
        [
         "Quantity ordered new",
         "0"
        ],
        [
         "Sales",
         "0"
        ],
        [
         "Order ID",
         "0"
        ]
       ],
       "shape": {
        "columns": 1,
        "rows": 24
       }
      },
      "text/plain": [
       "Row ID                   0\n",
       "Order Priority           0\n",
       "Discount                 0\n",
       "Unit Price               0\n",
       "Shipping Cost            0\n",
       "Customer ID              0\n",
       "Customer Name            0\n",
       "Ship Mode                0\n",
       "Customer Segment         0\n",
       "Product Category         0\n",
       "Product Sub-Category     0\n",
       "Product Container        0\n",
       "Product Name             0\n",
       "Product Base Margin     72\n",
       "Region                   0\n",
       "State or Province        0\n",
       "City                     0\n",
       "Postal Code              0\n",
       "Order Date               0\n",
       "Ship Date                0\n",
       "Profit                   0\n",
       "Quantity ordered new     0\n",
       "Sales                    0\n",
       "Order ID                 0\n",
       "dtype: int64"
      ]
     },
     "execution_count": 21,
     "metadata": {},
     "output_type": "execute_result"
    }
   ],
   "source": [
    "dataset.isnull().sum()"
   ]
  },
  {
   "cell_type": "markdown",
   "id": "79795cd9",
   "metadata": {},
   "source": [
    "Fill the null values with avg value in the column."
   ]
  },
  {
   "cell_type": "code",
   "execution_count": null,
   "id": "9614f537",
   "metadata": {},
   "outputs": [
    {
     "data": {
      "application/vnd.microsoft.datawrangler.viewer.v0+json": {
       "columns": [
        {
         "name": "index",
         "rawType": "int64",
         "type": "integer"
        },
        {
         "name": "Row ID",
         "rawType": "int64",
         "type": "integer"
        },
        {
         "name": "Order Priority",
         "rawType": "object",
         "type": "string"
        },
        {
         "name": "Discount",
         "rawType": "float64",
         "type": "float"
        },
        {
         "name": "Unit Price",
         "rawType": "float64",
         "type": "float"
        },
        {
         "name": "Shipping Cost",
         "rawType": "float64",
         "type": "float"
        },
        {
         "name": "Customer ID",
         "rawType": "int64",
         "type": "integer"
        },
        {
         "name": "Customer Name",
         "rawType": "object",
         "type": "string"
        },
        {
         "name": "Ship Mode",
         "rawType": "object",
         "type": "string"
        },
        {
         "name": "Customer Segment",
         "rawType": "object",
         "type": "string"
        },
        {
         "name": "Product Category",
         "rawType": "object",
         "type": "string"
        },
        {
         "name": "Product Sub-Category",
         "rawType": "object",
         "type": "string"
        },
        {
         "name": "Product Container",
         "rawType": "object",
         "type": "string"
        },
        {
         "name": "Product Name",
         "rawType": "object",
         "type": "string"
        },
        {
         "name": "Product Base Margin",
         "rawType": "float64",
         "type": "float"
        },
        {
         "name": "Region",
         "rawType": "object",
         "type": "string"
        },
        {
         "name": "State or Province",
         "rawType": "object",
         "type": "string"
        },
        {
         "name": "City",
         "rawType": "object",
         "type": "string"
        },
        {
         "name": "Postal Code",
         "rawType": "int64",
         "type": "integer"
        },
        {
         "name": "Order Date",
         "rawType": "object",
         "type": "string"
        },
        {
         "name": "Ship Date",
         "rawType": "object",
         "type": "string"
        },
        {
         "name": "Profit",
         "rawType": "float64",
         "type": "float"
        },
        {
         "name": "Quantity ordered new",
         "rawType": "int64",
         "type": "integer"
        },
        {
         "name": "Sales",
         "rawType": "float64",
         "type": "float"
        },
        {
         "name": "Order ID",
         "rawType": "int64",
         "type": "integer"
        }
       ],
       "ref": "7545866b-ae12-4462-ab5d-6d0c0bba4042",
       "rows": [
        [
         "0",
         "18606",
         "Not Specified",
         "0.01",
         "2.88",
         "0.5",
         "2",
         "Janice Fletcher",
         "Regular Air",
         "Corporate",
         "Office Supplies",
         "Labels",
         "Small Box",
         "Avery 49",
         "0.36",
         "Central",
         "Illinois",
         "Addison",
         "60101",
         "5/28/2012",
         "5/30/2012",
         "1.32",
         "2",
         "5.9",
         "88525"
        ],
        [
         "1",
         "20847",
         "High",
         "0.01",
         "2.84",
         "0.93",
         "3",
         "Bonnie Potter",
         "Express Air",
         "Corporate",
         "Office Supplies",
         "Pens & Art Supplies",
         "Wrap Bag",
         "SANFORD Liquid Accent™ Tank-Style Highlighters",
         "0.54",
         "West",
         "Washington",
         "Anacortes",
         "98221",
         "7/7/2010",
         "7/8/2010",
         "4.56",
         "4",
         "13.01",
         "88522"
        ],
        [
         "2",
         "23086",
         "Not Specified",
         "0.03",
         "6.68",
         "6.15",
         "3",
         "Bonnie Potter",
         "Express Air",
         "Corporate",
         "Office Supplies",
         "Paper",
         "Small Box",
         "Xerox 1968",
         "0.37",
         "West",
         "Washington",
         "Anacortes",
         "98221",
         "7/27/2011",
         "7/28/2011",
         "-47.64",
         "7",
         "49.92",
         "88523"
        ],
        [
         "3",
         "23087",
         "Not Specified",
         "0.01",
         "5.68",
         "3.6",
         "3",
         "Bonnie Potter",
         "Regular Air",
         "Corporate",
         "Office Supplies",
         "Scissors, Rulers and Trimmers",
         "Small Pack",
         "Acme® Preferred Stainless Steel Scissors",
         "0.56",
         "West",
         "Washington",
         "Anacortes",
         "98221",
         "7/27/2011",
         "7/28/2011",
         "-30.51",
         "7",
         "41.64",
         "88523"
        ],
        [
         "4",
         "23088",
         "Not Specified",
         "0.0",
         "205.99",
         "2.5",
         "3",
         "Bonnie Potter",
         "Express Air",
         "Corporate",
         "Technology",
         "Telephones and Communication",
         "Small Box",
         "V70",
         "0.59",
         "West",
         "Washington",
         "Anacortes",
         "98221",
         "7/27/2011",
         "7/27/2011",
         "998.2023",
         "8",
         "1446.67",
         "88523"
        ],
        [
         "5",
         "23597",
         "Medium",
         "0.09",
         "55.48",
         "14.3",
         "3",
         "Bonnie Potter",
         "Express Air",
         "Corporate",
         "Office Supplies",
         "Paper",
         "Small Box",
         "Xerox 194",
         "0.37",
         "West",
         "Washington",
         "Anacortes",
         "98221",
         "11/9/2011",
         "11/11/2011",
         "1388.0523",
         "37",
         "2011.67",
         "88524"
        ],
        [
         "6",
         "25549",
         "Low",
         "0.08",
         "120.97",
         "26.3",
         "3",
         "Bonnie Potter",
         "Delivery Truck",
         "Corporate",
         "Technology",
         "Office Machines",
         "Jumbo Drum",
         "Canon S750 Color Inkjet Printer",
         "0.38",
         "West",
         "Washington",
         "Anacortes",
         "98221",
         "7/1/2013",
         "7/8/2013",
         "1001.4453",
         "12",
         "1451.37",
         "88526"
        ],
        [
         "7",
         "20228",
         "Not Specified",
         "0.02",
         "500.98",
         "26.0",
         "5",
         "Ronnie Proctor",
         "Delivery Truck",
         "Home Office",
         "Furniture",
         "Chairs & Chairmats",
         "Jumbo Drum",
         "Global Troy™ Executive Leather Low-Back Tilter",
         "0.6",
         "West",
         "California",
         "San Gabriel",
         "91776",
         "12/13/2010",
         "12/15/2010",
         "4390.3665",
         "12",
         "6362.85",
         "90193"
        ],
        [
         "8",
         "19483",
         "Low",
         "0.08",
         "6.48",
         "6.81",
         "5",
         "Ronnie Proctor",
         "Regular Air",
         "Home Office",
         "Office Supplies",
         "Paper",
         "Small Box",
         "Xerox 1930",
         "0.36",
         "West",
         "California",
         "San Gabriel",
         "91776",
         "5/12/2012",
         "5/21/2012",
         "-141.26",
         "18",
         "113.25",
         "90197"
        ],
        [
         "9",
         "24782",
         "High",
         "0.01",
         "90.24",
         "0.99",
         "6",
         "Dwight Hwang",
         "Regular Air",
         "Home Office",
         "Office Supplies",
         "Appliances",
         "Small Box",
         "Kensington 6 Outlet MasterPiece® HOMEOFFICE Power Control Center",
         "0.56",
         "West",
         "California",
         "San Jose",
         "95123",
         "5/26/2011",
         "5/26/2011",
         "1045.4673",
         "16",
         "1515.17",
         "90194"
        ],
        [
         "10",
         "24563",
         "Critical",
         "0.07",
         "6.48",
         "6.6",
         "6",
         "Dwight Hwang",
         "Regular Air",
         "Home Office",
         "Office Supplies",
         "Paper",
         "Small Box",
         "Xerox 21",
         "0.37",
         "West",
         "California",
         "San Jose",
         "95123",
         "12/29/2012",
         "12/31/2012",
         "-13.86",
         "4",
         "28.61",
         "90200"
        ],
        [
         "11",
         "24564",
         "Critical",
         "0.01",
         "4.84",
         "0.71",
         "6",
         "Dwight Hwang",
         "Regular Air",
         "Home Office",
         "Office Supplies",
         "Pens & Art Supplies",
         "Wrap Bag",
         "*Staples* Highlighting Markers",
         "0.52",
         "West",
         "California",
         "San Jose",
         "95123",
         "12/29/2012",
         "12/31/2012",
         "57.5805",
         "17",
         "83.45",
         "90200"
        ],
        [
         "12",
         "24565",
         "Critical",
         "0.1",
         "85.99",
         "0.99",
         "6",
         "Dwight Hwang",
         "Regular Air",
         "Home Office",
         "Technology",
         "Telephones and Communication",
         "Wrap Bag",
         "Accessory34",
         "0.55",
         "West",
         "California",
         "San Jose",
         "95123",
         "12/29/2012",
         "12/31/2012",
         "1176.5052",
         "24",
         "1705.08",
         "90200"
        ],
        [
         "13",
         "21866",
         "High",
         "0.05",
         "12.28",
         "4.86",
         "7",
         "Leon Gill",
         "Regular Air",
         "Home Office",
         "Office Supplies",
         "Paper",
         "Small Box",
         "Xerox 1933",
         "0.38",
         "East",
         "Massachusetts",
         "Fall River",
         "2724",
         "10/30/2012",
         "10/31/2012",
         "72.9928",
         "19",
         "232.95",
         "90198"
        ],
        [
         "14",
         "20876",
         "Medium",
         "0.08",
         "140.98",
         "36.09",
         "8",
         "Melanie Garner",
         "Delivery Truck",
         "Home Office",
         "Furniture",
         "Bookcases",
         "Jumbo Box",
         "Sauder Forest Hills Library, Woodland Oak Finish",
         "0.77",
         "East",
         "New Hampshire",
         "Bedford",
         "3110",
         "12/25/2012",
         "12/26/2012",
         "-158.74",
         "5",
         "705.47",
         "90199"
        ],
        [
         "15",
         "20877",
         "Medium",
         "0.1",
         "286.85",
         "61.76",
         "9",
         "Lorraine Houston",
         "Delivery Truck",
         "Home Office",
         "Furniture",
         "Tables",
         "Jumbo Box",
         "Riverside Furniture Stanwyck Manor Table Series",
         "0.78",
         "East",
         "New Jersey",
         "Camden",
         "8101",
         "12/25/2012",
         "12/27/2012",
         "-346.6151975",
         "8",
         "1794.27",
         "90199"
        ],
        [
         "16",
         "22241",
         "Critical",
         "0.06",
         "15.57",
         "1.39",
         "10",
         "Meredith Norris Thomas",
         "Regular Air",
         "Home Office",
         "Office Supplies",
         "Envelopes",
         "Small Box",
         "Park Ridge™ Embossed Executive Business Envelopes",
         "0.38",
         "East",
         "New Jersey",
         "Pennsauken",
         "8109",
         "10/4/2011",
         "10/5/2011",
         "142.7955",
         "14",
         "206.95",
         "90195"
        ],
        [
         "17",
         "21776",
         "Critical",
         "0.06",
         "9.48",
         "7.29",
         "11",
         "Marcus Dunlap",
         "Regular Air",
         "Home Office",
         "Furniture",
         "Office Furnishings",
         "Small Pack",
         "DAX Two-Tone Rosewood/Black Document Frame, Desktop, 5 x 7",
         "0.45",
         "East",
         "New Jersey",
         "Roselle",
         "7203",
         "8/15/2010",
         "8/17/2010",
         "-53.8096",
         "22",
         "211.15",
         "90192"
        ],
        [
         "18",
         "23328",
         "High",
         "0.04",
         "10.98",
         "3.37",
         "12",
         "Kara Pace",
         "Regular Air",
         "Home Office",
         "Office Supplies",
         "Scissors, Rulers and Trimmers",
         "Small Pack",
         "Fiskars® Softgrip Scissors",
         "0.57",
         "East",
         "Rhode Island",
         "Cranston",
         "2907",
         "2/24/2012",
         "2/26/2012",
         "23.12",
         "8",
         "90.39",
         "90196"
        ],
        [
         "19",
         "24844",
         "Medium",
         "0.09",
         "78.69",
         "19.99",
         "14",
         "Gwendolyn F Tyson",
         "Regular Air",
         "Small Business",
         "Furniture",
         "Office Furnishings",
         "Small Box",
         "Howard Miller 12-3/4 Diameter Accuwave DS ™ Wall Clock",
         "0.43",
         "Central",
         "Minnesota",
         "Prior Lake",
         "55372",
         "5/12/2010",
         "5/14/2010",
         "803.4705",
         "16",
         "1164.45",
         "86838"
        ],
        [
         "20",
         "24846",
         "Medium",
         "0.08",
         "3.28",
         "2.31",
         "14",
         "Gwendolyn F Tyson",
         "Regular Air",
         "Small Business",
         "Office Supplies",
         "Pens & Art Supplies",
         "Wrap Bag",
         "Newell 321",
         "0.56",
         "Central",
         "Minnesota",
         "Prior Lake",
         "55372",
         "5/12/2010",
         "5/13/2010",
         "-24.03",
         "7",
         "22.23",
         "86838"
        ],
        [
         "21",
         "24847",
         "Medium",
         "0.05",
         "3.28",
         "4.2",
         "14",
         "Gwendolyn F Tyson",
         "Regular Air",
         "Small Business",
         "Office Supplies",
         "Pens & Art Supplies",
         "Wrap Bag",
         "Newell 351",
         "0.56",
         "Central",
         "Minnesota",
         "Prior Lake",
         "55372",
         "5/12/2010",
         "5/13/2010",
         "-37.03",
         "4",
         "13.99",
         "86838"
        ],
        [
         "22",
         "24848",
         "Medium",
         "0.05",
         "3.58",
         "1.63",
         "14",
         "Gwendolyn F Tyson",
         "Regular Air",
         "Small Business",
         "Office Supplies",
         "Rubber Bands",
         "Wrap Bag",
         "OIC Colored Binder Clips, Assorted Sizes",
         "0.36",
         "Central",
         "Minnesota",
         "Prior Lake",
         "55372",
         "5/12/2010",
         "5/13/2010",
         "-0.71",
         "4",
         "14.26",
         "86838"
        ],
        [
         "23",
         "24845",
         "Medium",
         "0.01",
         "6.48",
         "7.86",
         "14",
         "Gwendolyn F Tyson",
         "Regular Air",
         "Small Business",
         "Office Supplies",
         "Paper",
         "Small Box",
         "Xerox 213",
         "0.37",
         "Central",
         "Minnesota",
         "Prior Lake",
         "55372",
         "5/12/2013",
         "5/13/2013",
         "-44.54",
         "4",
         "29.55",
         "86845"
        ],
        [
         "24",
         "18181",
         "Critical",
         "0.0",
         "4.42",
         "4.99",
         "15",
         "Timothy Reese",
         "Regular Air",
         "Small Business",
         "Office Supplies",
         "Envelopes",
         "Small Box",
         "Grip Seal Envelopes",
         "0.38",
         "East",
         "New York",
         "Smithtown",
         "11787",
         "4/8/2010",
         "4/9/2010",
         "-59.82",
         "7",
         "33.47",
         "86837"
        ],
        [
         "25",
         "20925",
         "Medium",
         "0.01",
         "35.94",
         "6.66",
         "15",
         "Timothy Reese",
         "Regular Air",
         "Small Business",
         "Office Supplies",
         "Envelopes",
         "Small Box",
         "Tyvek ® Top-Opening Peel & Seel ® Envelopes, Gray",
         "0.4",
         "East",
         "New York",
         "Smithtown",
         "11787",
         "5/28/2010",
         "5/28/2010",
         "261.8757",
         "10",
         "379.53",
         "86839"
        ],
        [
         "26",
         "18263",
         "Medium",
         "0.03",
         "1.76",
         "0.7",
         "15",
         "Timothy Reese",
         "Regular Air",
         "Small Business",
         "Office Supplies",
         "Pens & Art Supplies",
         "Wrap Bag",
         "Newell 310",
         "0.56",
         "East",
         "New York",
         "Smithtown",
         "11787",
         "12/4/2011",
         "12/6/2011",
         "-1.17",
         "10",
         "17.39",
         "86840"
        ],
        [
         "27",
         "18554",
         "Medium",
         "0.04",
         "5.98",
         "5.2",
         "15",
         "Timothy Reese",
         "Regular Air",
         "Small Business",
         "Office Supplies",
         "Paper",
         "Small Box",
         "Xerox 1992",
         "0.36",
         "East",
         "New York",
         "Smithtown",
         "11787",
         "4/29/2012",
         "5/1/2012",
         "-24.03",
         "3",
         "19.04",
         "86841"
        ],
        [
         "28",
         "22781",
         "Low",
         "0.0",
         "7.59",
         "4.0",
         "15",
         "Timothy Reese",
         "Regular Air",
         "Small Business",
         "Furniture",
         "Office Furnishings",
         "Wrap Bag",
         "Master Giant Foot® Doorstop, Safety Yellow",
         "0.42",
         "East",
         "New York",
         "Smithtown",
         "11787",
         "1/19/2013",
         "1/21/2013",
         "23.2668",
         "4",
         "33.72",
         "86842"
        ],
        [
         "29",
         "23287",
         "Low",
         "0.07",
         "4.13",
         "6.89",
         "15",
         "Timothy Reese",
         "Regular Air",
         "Small Business",
         "Office Supplies",
         "Labels",
         "Small Box",
         "Avery 05222 Permanent Self-Adhesive File Folder Labels for Typewriters, on Rolls, White, 250/Roll",
         "0.39",
         "East",
         "New York",
         "Smithtown",
         "11787",
         "1/21/2013",
         "1/23/2013",
         "-174.2696",
         "9",
         "38.18",
         "86843"
        ],
        [
         "30",
         "26267",
         "High",
         "0.04",
         "2.98",
         "1.58",
         "16",
         "Sarah Ramsey",
         "Regular Air",
         "Small Business",
         "Office Supplies",
         "Rubber Bands",
         "Wrap Bag",
         "Staples Gold Paper Clips",
         "0.39",
         "East",
         "New York",
         "Syracuse",
         "13210",
         "2/12/2010",
         "2/15/2010",
         "2.63",
         "6",
         "18.8",
         "86836"
        ],
        [
         "31",
         "26268",
         "High",
         "0.05",
         "115.99",
         "2.5",
         "16",
         "Sarah Ramsey",
         "Regular Air",
         "Small Business",
         "Technology",
         "Telephones and Communication",
         "Small Box",
         "StarTAC 7797",
         "0.55",
         "East",
         "New York",
         "Syracuse",
         "13210",
         "2/12/2010",
         "2/14/2010",
         "652.7331",
         "10",
         "945.99",
         "86836"
        ],
        [
         "32",
         "26266",
         "High",
         "0.08",
         "14.27",
         "7.27",
         "16",
         "Sarah Ramsey",
         "Express Air",
         "Small Business",
         "Office Supplies",
         "Binders and Binder Accessories",
         "Small Box",
         "GBC Laser Imprintable Binding System Covers, Desert Sand",
         "0.38",
         "East",
         "New York",
         "Syracuse",
         "13210",
         "2/12/2013",
         "2/15/2013",
         "3.4595",
         "3",
         "45.6",
         "86844"
        ],
        [
         "33",
         "19359",
         "Low",
         "0.05",
         "5.85",
         "2.27",
         "17",
         "Florence Hsu Schwarz",
         "Regular Air",
         "Small Business",
         "Office Supplies",
         "Pens & Art Supplies",
         "Wrap Bag",
         "Dixon My First Ticonderoga Pencil, #2",
         "0.56",
         "West",
         "Montana",
         "Great Falls",
         "59405",
         "4/20/2011",
         "4/24/2011",
         "-6.82",
         "2",
         "12.18",
         "90033"
        ],
        [
         "34",
         "20459",
         "Critical",
         "0.05",
         "7.77",
         "9.23",
         "17",
         "Florence Hsu Schwarz",
         "Express Air",
         "Small Business",
         "Office Supplies",
         "Appliances",
         "Small Box",
         "Hoover Commercial Soft Guard Upright Vacuum And Disposable Filtration Bags",
         "0.58",
         "West",
         "Montana",
         "Great Falls",
         "59405",
         "4/6/2012",
         "4/8/2012",
         "-96.33",
         "4",
         "34.75",
         "90034"
        ],
        [
         "35",
         "23890",
         "High",
         "0.05",
         "26.48",
         "6.93",
         "18",
         "Laurie Hanna",
         "Regular Air",
         "Small Business",
         "Furniture",
         "Office Furnishings",
         "Small Box",
         "DAX Natural Wood-Tone Poster Frame",
         "0.49",
         "West",
         "Montana",
         "Helena",
         "59601",
         "5/15/2010",
         "5/16/2010",
         "314.4813",
         "17",
         "455.77",
         "90031"
        ],
        [
         "36",
         "21763",
         "Critical",
         "0.08",
         "42.98",
         "4.62",
         "18",
         "Laurie Hanna",
         "Express Air",
         "Small Business",
         "Office Supplies",
         "Appliances",
         "Small Box",
         "Belkin F9M820V08 8 Outlet Surge",
         "0.56",
         "West",
         "Montana",
         "Helena",
         "59601",
         "5/15/2012",
         "5/16/2012",
         "446.0781",
         "15",
         "646.49",
         "90035"
        ],
        [
         "37",
         "21764",
         "Critical",
         "0.07",
         "8.04",
         "8.94",
         "18",
         "Laurie Hanna",
         "Express Air",
         "Small Business",
         "Office Supplies",
         "Binders and Binder Accessories",
         "Small Box",
         "Fellowes Twister Kit, Gray/Clear, 3/pkg",
         "0.4",
         "West",
         "Montana",
         "Helena",
         "59601",
         "5/15/2012",
         "5/15/2012",
         "-117.1045",
         "9",
         "75.85",
         "90035"
        ],
        [
         "38",
         "24062",
         "Not Specified",
         "0.08",
         "5.0",
         "3.39",
         "18",
         "Laurie Hanna",
         "Regular Air",
         "Small Business",
         "Office Supplies",
         "Rubber Bands",
         "Wrap Bag",
         "Advantus Plastic Paper Clips",
         "0.37",
         "West",
         "Montana",
         "Helena",
         "59601",
         "5/21/2013",
         "5/22/2013",
         "-17.49",
         "13",
         "65.69",
         "90038"
        ],
        [
         "39",
         "20578",
         "Low",
         "0.02",
         "110.98",
         "30.0",
         "18",
         "Laurie Hanna",
         "Delivery Truck",
         "Small Business",
         "Furniture",
         "Chairs & Chairmats",
         "Jumbo Drum",
         "Office Star Flex Back Scooter Chair with White Frame",
         "0.71",
         "West",
         "Montana",
         "Helena",
         "59601",
         "10/2/2013",
         "10/4/2013",
         "126.31",
         "22",
         "2575.93",
         "90039"
        ],
        [
         "40",
         "20579",
         "Low",
         "0.01",
         "12.53",
         "0.5",
         "18",
         "Laurie Hanna",
         "Regular Air",
         "Small Business",
         "Office Supplies",
         "Labels",
         "Small Box",
         "Avery 485",
         "0.38",
         "West",
         "Montana",
         "Helena",
         "59601",
         "10/2/2013",
         "10/4/2013",
         "152.7867",
         "17",
         "221.43",
         "90039"
        ],
        [
         "41",
         "24063",
         "Not Specified",
         "0.07",
         "12.99",
         "9.44",
         "19",
         "Jim Rodgers",
         "Regular Air",
         "Small Business",
         "Technology",
         "Office Machines",
         "Medium Box",
         "Hewlett Packard 6S Scientific Calculator",
         "0.39",
         "West",
         "Montana",
         "Missoula",
         "59801",
         "5/21/2010",
         "5/23/2010",
         "-114.6399",
         "18",
         "231.79",
         "90032"
        ],
        [
         "42",
         "25082",
         "Not Specified",
         "0.06",
         "64.65",
         "35.0",
         "20",
         "Marion Nolan Kaplan",
         "Express Air",
         "Small Business",
         "Office Supplies",
         "Storage & Organization",
         "Large Box",
         "Space Solutions Commercial Steel Shelving",
         "0.8",
         "Central",
         "Nebraska",
         "Bellevue",
         "68005",
         "5/31/2012",
         "6/2/2012",
         "-929.68",
         "13",
         "802.21",
         "90036"
        ],
        [
         "43",
         "25083",
         "Not Specified",
         "0.0",
         "15.23",
         "27.75",
         "20",
         "Marion Nolan Kaplan",
         "Delivery Truck",
         "Small Business",
         "Furniture",
         "Tables",
         "Jumbo Box",
         "Anderson Hickey Conga Table Tops & Accessories",
         "0.76",
         "Central",
         "Nebraska",
         "Bellevue",
         "68005",
         "5/31/2012",
         "6/1/2012",
         "-53.784",
         "1",
         "24.48",
         "90036"
        ],
        [
         "44",
         "25711",
         "Medium",
         "0.0",
         "30.98",
         "17.08",
         "20",
         "Marion Nolan Kaplan",
         "Regular Air",
         "Small Business",
         "Office Supplies",
         "Paper",
         "Small Box",
         "Xerox 197",
         "0.4",
         "Central",
         "Nebraska",
         "Bellevue",
         "68005",
         "3/7/2013",
         "3/8/2013",
         "-41.82",
         "1",
         "49.61",
         "90037"
        ],
        [
         "45",
         "5890",
         "High",
         "0.05",
         "26.48",
         "6.93",
         "21",
         "Tony Wilkins Winters",
         "Regular Air",
         "Small Business",
         "Furniture",
         "Office Furnishings",
         "Small Box",
         "DAX Natural Wood-Tone Poster Frame",
         "0.49",
         "East",
         "New York",
         "New York City",
         "10012",
         "5/15/2010",
         "5/16/2010",
         "384.38",
         "70",
         "1876.69",
         "41793"
        ],
        [
         "46",
         "6062",
         "Not Specified",
         "0.08",
         "5.0",
         "3.39",
         "21",
         "Tony Wilkins Winters",
         "Regular Air",
         "Small Business",
         "Office Supplies",
         "Rubber Bands",
         "Wrap Bag",
         "Advantus Plastic Paper Clips",
         "0.37",
         "East",
         "New York",
         "New York City",
         "10012",
         "5/21/2010",
         "5/22/2010",
         "-17.49",
         "58",
         "293.06",
         "42949"
        ],
        [
         "47",
         "6063",
         "Not Specified",
         "0.07",
         "12.99",
         "9.44",
         "21",
         "Tony Wilkins Winters",
         "Regular Air",
         "Small Business",
         "Technology",
         "Office Machines",
         "Medium Box",
         "Hewlett Packard 6S Scientific Calculator",
         "0.39",
         "East",
         "New York",
         "New York City",
         "10012",
         "5/21/2010",
         "5/23/2010",
         "-114.6399",
         "71",
         "914.29",
         "42949"
        ],
        [
         "48",
         "7711",
         "Medium",
         "0.0",
         "30.98",
         "17.08",
         "21",
         "Tony Wilkins Winters",
         "Regular Air",
         "Small Business",
         "Office Supplies",
         "Paper",
         "Small Box",
         "Xerox 197",
         "0.4",
         "East",
         "New York",
         "New York City",
         "10012",
         "3/7/2011",
         "3/8/2011",
         "-41.82",
         "1",
         "49.61",
         "55269"
        ],
        [
         "49",
         "1359",
         "Low",
         "0.05",
         "5.85",
         "2.27",
         "21",
         "Tony Wilkins Winters",
         "Regular Air",
         "Small Business",
         "Office Supplies",
         "Pens & Art Supplies",
         "Wrap Bag",
         "Dixon My First Ticonderoga Pencil, #2",
         "0.56",
         "East",
         "New York",
         "New York City",
         "10012",
         "4/20/2011",
         "4/24/2011",
         "-6.82",
         "9",
         "54.79",
         "9895"
        ]
       ],
       "shape": {
        "columns": 24,
        "rows": 9426
       }
      },
      "text/html": [
       "<div>\n",
       "<style scoped>\n",
       "    .dataframe tbody tr th:only-of-type {\n",
       "        vertical-align: middle;\n",
       "    }\n",
       "\n",
       "    .dataframe tbody tr th {\n",
       "        vertical-align: top;\n",
       "    }\n",
       "\n",
       "    .dataframe thead th {\n",
       "        text-align: right;\n",
       "    }\n",
       "</style>\n",
       "<table border=\"1\" class=\"dataframe\">\n",
       "  <thead>\n",
       "    <tr style=\"text-align: right;\">\n",
       "      <th></th>\n",
       "      <th>Row ID</th>\n",
       "      <th>Order Priority</th>\n",
       "      <th>Discount</th>\n",
       "      <th>Unit Price</th>\n",
       "      <th>Shipping Cost</th>\n",
       "      <th>Customer ID</th>\n",
       "      <th>Customer Name</th>\n",
       "      <th>Ship Mode</th>\n",
       "      <th>Customer Segment</th>\n",
       "      <th>Product Category</th>\n",
       "      <th>...</th>\n",
       "      <th>Region</th>\n",
       "      <th>State or Province</th>\n",
       "      <th>City</th>\n",
       "      <th>Postal Code</th>\n",
       "      <th>Order Date</th>\n",
       "      <th>Ship Date</th>\n",
       "      <th>Profit</th>\n",
       "      <th>Quantity ordered new</th>\n",
       "      <th>Sales</th>\n",
       "      <th>Order ID</th>\n",
       "    </tr>\n",
       "  </thead>\n",
       "  <tbody>\n",
       "    <tr>\n",
       "      <th>0</th>\n",
       "      <td>18606</td>\n",
       "      <td>Not Specified</td>\n",
       "      <td>0.01</td>\n",
       "      <td>2.88</td>\n",
       "      <td>0.50</td>\n",
       "      <td>2</td>\n",
       "      <td>Janice Fletcher</td>\n",
       "      <td>Regular Air</td>\n",
       "      <td>Corporate</td>\n",
       "      <td>Office Supplies</td>\n",
       "      <td>...</td>\n",
       "      <td>Central</td>\n",
       "      <td>Illinois</td>\n",
       "      <td>Addison</td>\n",
       "      <td>60101</td>\n",
       "      <td>5/28/2012</td>\n",
       "      <td>5/30/2012</td>\n",
       "      <td>1.320000</td>\n",
       "      <td>2</td>\n",
       "      <td>5.90</td>\n",
       "      <td>88525</td>\n",
       "    </tr>\n",
       "    <tr>\n",
       "      <th>1</th>\n",
       "      <td>20847</td>\n",
       "      <td>High</td>\n",
       "      <td>0.01</td>\n",
       "      <td>2.84</td>\n",
       "      <td>0.93</td>\n",
       "      <td>3</td>\n",
       "      <td>Bonnie Potter</td>\n",
       "      <td>Express Air</td>\n",
       "      <td>Corporate</td>\n",
       "      <td>Office Supplies</td>\n",
       "      <td>...</td>\n",
       "      <td>West</td>\n",
       "      <td>Washington</td>\n",
       "      <td>Anacortes</td>\n",
       "      <td>98221</td>\n",
       "      <td>7/7/2010</td>\n",
       "      <td>7/8/2010</td>\n",
       "      <td>4.560000</td>\n",
       "      <td>4</td>\n",
       "      <td>13.01</td>\n",
       "      <td>88522</td>\n",
       "    </tr>\n",
       "    <tr>\n",
       "      <th>2</th>\n",
       "      <td>23086</td>\n",
       "      <td>Not Specified</td>\n",
       "      <td>0.03</td>\n",
       "      <td>6.68</td>\n",
       "      <td>6.15</td>\n",
       "      <td>3</td>\n",
       "      <td>Bonnie Potter</td>\n",
       "      <td>Express Air</td>\n",
       "      <td>Corporate</td>\n",
       "      <td>Office Supplies</td>\n",
       "      <td>...</td>\n",
       "      <td>West</td>\n",
       "      <td>Washington</td>\n",
       "      <td>Anacortes</td>\n",
       "      <td>98221</td>\n",
       "      <td>7/27/2011</td>\n",
       "      <td>7/28/2011</td>\n",
       "      <td>-47.640000</td>\n",
       "      <td>7</td>\n",
       "      <td>49.92</td>\n",
       "      <td>88523</td>\n",
       "    </tr>\n",
       "    <tr>\n",
       "      <th>3</th>\n",
       "      <td>23087</td>\n",
       "      <td>Not Specified</td>\n",
       "      <td>0.01</td>\n",
       "      <td>5.68</td>\n",
       "      <td>3.60</td>\n",
       "      <td>3</td>\n",
       "      <td>Bonnie Potter</td>\n",
       "      <td>Regular Air</td>\n",
       "      <td>Corporate</td>\n",
       "      <td>Office Supplies</td>\n",
       "      <td>...</td>\n",
       "      <td>West</td>\n",
       "      <td>Washington</td>\n",
       "      <td>Anacortes</td>\n",
       "      <td>98221</td>\n",
       "      <td>7/27/2011</td>\n",
       "      <td>7/28/2011</td>\n",
       "      <td>-30.510000</td>\n",
       "      <td>7</td>\n",
       "      <td>41.64</td>\n",
       "      <td>88523</td>\n",
       "    </tr>\n",
       "    <tr>\n",
       "      <th>4</th>\n",
       "      <td>23088</td>\n",
       "      <td>Not Specified</td>\n",
       "      <td>0.00</td>\n",
       "      <td>205.99</td>\n",
       "      <td>2.50</td>\n",
       "      <td>3</td>\n",
       "      <td>Bonnie Potter</td>\n",
       "      <td>Express Air</td>\n",
       "      <td>Corporate</td>\n",
       "      <td>Technology</td>\n",
       "      <td>...</td>\n",
       "      <td>West</td>\n",
       "      <td>Washington</td>\n",
       "      <td>Anacortes</td>\n",
       "      <td>98221</td>\n",
       "      <td>7/27/2011</td>\n",
       "      <td>7/27/2011</td>\n",
       "      <td>998.202300</td>\n",
       "      <td>8</td>\n",
       "      <td>1446.67</td>\n",
       "      <td>88523</td>\n",
       "    </tr>\n",
       "    <tr>\n",
       "      <th>...</th>\n",
       "      <td>...</td>\n",
       "      <td>...</td>\n",
       "      <td>...</td>\n",
       "      <td>...</td>\n",
       "      <td>...</td>\n",
       "      <td>...</td>\n",
       "      <td>...</td>\n",
       "      <td>...</td>\n",
       "      <td>...</td>\n",
       "      <td>...</td>\n",
       "      <td>...</td>\n",
       "      <td>...</td>\n",
       "      <td>...</td>\n",
       "      <td>...</td>\n",
       "      <td>...</td>\n",
       "      <td>...</td>\n",
       "      <td>...</td>\n",
       "      <td>...</td>\n",
       "      <td>...</td>\n",
       "      <td>...</td>\n",
       "      <td>...</td>\n",
       "    </tr>\n",
       "    <tr>\n",
       "      <th>9421</th>\n",
       "      <td>20275</td>\n",
       "      <td>Critical</td>\n",
       "      <td>0.06</td>\n",
       "      <td>35.89</td>\n",
       "      <td>14.72</td>\n",
       "      <td>3402</td>\n",
       "      <td>Frederick Cole</td>\n",
       "      <td>Regular Air</td>\n",
       "      <td>Consumer</td>\n",
       "      <td>Office Supplies</td>\n",
       "      <td>...</td>\n",
       "      <td>East</td>\n",
       "      <td>West Virginia</td>\n",
       "      <td>Charleston</td>\n",
       "      <td>25314</td>\n",
       "      <td>5/14/2013</td>\n",
       "      <td>5/15/2013</td>\n",
       "      <td>137.860000</td>\n",
       "      <td>13</td>\n",
       "      <td>447.87</td>\n",
       "      <td>87532</td>\n",
       "    </tr>\n",
       "    <tr>\n",
       "      <th>9422</th>\n",
       "      <td>20276</td>\n",
       "      <td>Critical</td>\n",
       "      <td>0.00</td>\n",
       "      <td>3.34</td>\n",
       "      <td>7.49</td>\n",
       "      <td>3402</td>\n",
       "      <td>Frederick Cole</td>\n",
       "      <td>Regular Air</td>\n",
       "      <td>Consumer</td>\n",
       "      <td>Office Supplies</td>\n",
       "      <td>...</td>\n",
       "      <td>East</td>\n",
       "      <td>West Virginia</td>\n",
       "      <td>Charleston</td>\n",
       "      <td>25314</td>\n",
       "      <td>5/14/2013</td>\n",
       "      <td>5/14/2013</td>\n",
       "      <td>-39.070000</td>\n",
       "      <td>3</td>\n",
       "      <td>13.23</td>\n",
       "      <td>87532</td>\n",
       "    </tr>\n",
       "    <tr>\n",
       "      <th>9423</th>\n",
       "      <td>24491</td>\n",
       "      <td>Not Specified</td>\n",
       "      <td>0.08</td>\n",
       "      <td>550.98</td>\n",
       "      <td>45.70</td>\n",
       "      <td>3402</td>\n",
       "      <td>Frederick Cole</td>\n",
       "      <td>Delivery Truck</td>\n",
       "      <td>Consumer</td>\n",
       "      <td>Furniture</td>\n",
       "      <td>...</td>\n",
       "      <td>East</td>\n",
       "      <td>West Virginia</td>\n",
       "      <td>Charleston</td>\n",
       "      <td>25314</td>\n",
       "      <td>9/12/2013</td>\n",
       "      <td>9/14/2013</td>\n",
       "      <td>-1225.029097</td>\n",
       "      <td>4</td>\n",
       "      <td>2215.93</td>\n",
       "      <td>87533</td>\n",
       "    </tr>\n",
       "    <tr>\n",
       "      <th>9424</th>\n",
       "      <td>25914</td>\n",
       "      <td>High</td>\n",
       "      <td>0.10</td>\n",
       "      <td>105.98</td>\n",
       "      <td>13.99</td>\n",
       "      <td>3403</td>\n",
       "      <td>Tammy Buckley</td>\n",
       "      <td>Express Air</td>\n",
       "      <td>Consumer</td>\n",
       "      <td>Furniture</td>\n",
       "      <td>...</td>\n",
       "      <td>West</td>\n",
       "      <td>Wyoming</td>\n",
       "      <td>Cheyenne</td>\n",
       "      <td>82001</td>\n",
       "      <td>2/8/2010</td>\n",
       "      <td>2/11/2010</td>\n",
       "      <td>349.485000</td>\n",
       "      <td>5</td>\n",
       "      <td>506.50</td>\n",
       "      <td>87530</td>\n",
       "    </tr>\n",
       "    <tr>\n",
       "      <th>9425</th>\n",
       "      <td>24492</td>\n",
       "      <td>Not Specified</td>\n",
       "      <td>0.09</td>\n",
       "      <td>7.78</td>\n",
       "      <td>2.50</td>\n",
       "      <td>3403</td>\n",
       "      <td>Tammy Buckley</td>\n",
       "      <td>Express Air</td>\n",
       "      <td>Consumer</td>\n",
       "      <td>Office Supplies</td>\n",
       "      <td>...</td>\n",
       "      <td>West</td>\n",
       "      <td>Wyoming</td>\n",
       "      <td>Cheyenne</td>\n",
       "      <td>82001</td>\n",
       "      <td>9/12/2013</td>\n",
       "      <td>9/14/2013</td>\n",
       "      <td>78.062400</td>\n",
       "      <td>23</td>\n",
       "      <td>172.48</td>\n",
       "      <td>87533</td>\n",
       "    </tr>\n",
       "  </tbody>\n",
       "</table>\n",
       "<p>9426 rows × 24 columns</p>\n",
       "</div>"
      ],
      "text/plain": [
       "      Row ID Order Priority  Discount  Unit Price  Shipping Cost  Customer ID  \\\n",
       "0      18606  Not Specified      0.01        2.88           0.50            2   \n",
       "1      20847           High      0.01        2.84           0.93            3   \n",
       "2      23086  Not Specified      0.03        6.68           6.15            3   \n",
       "3      23087  Not Specified      0.01        5.68           3.60            3   \n",
       "4      23088  Not Specified      0.00      205.99           2.50            3   \n",
       "...      ...            ...       ...         ...            ...          ...   \n",
       "9421   20275       Critical      0.06       35.89          14.72         3402   \n",
       "9422   20276       Critical      0.00        3.34           7.49         3402   \n",
       "9423   24491  Not Specified      0.08      550.98          45.70         3402   \n",
       "9424   25914           High      0.10      105.98          13.99         3403   \n",
       "9425   24492  Not Specified      0.09        7.78           2.50         3403   \n",
       "\n",
       "        Customer Name       Ship Mode Customer Segment Product Category  ...  \\\n",
       "0     Janice Fletcher     Regular Air        Corporate  Office Supplies  ...   \n",
       "1       Bonnie Potter     Express Air        Corporate  Office Supplies  ...   \n",
       "2       Bonnie Potter     Express Air        Corporate  Office Supplies  ...   \n",
       "3       Bonnie Potter     Regular Air        Corporate  Office Supplies  ...   \n",
       "4       Bonnie Potter     Express Air        Corporate       Technology  ...   \n",
       "...               ...             ...              ...              ...  ...   \n",
       "9421   Frederick Cole     Regular Air         Consumer  Office Supplies  ...   \n",
       "9422   Frederick Cole     Regular Air         Consumer  Office Supplies  ...   \n",
       "9423   Frederick Cole  Delivery Truck         Consumer        Furniture  ...   \n",
       "9424    Tammy Buckley     Express Air         Consumer        Furniture  ...   \n",
       "9425    Tammy Buckley     Express Air         Consumer  Office Supplies  ...   \n",
       "\n",
       "       Region State or Province        City  Postal Code Order Date  \\\n",
       "0     Central          Illinois     Addison        60101  5/28/2012   \n",
       "1        West        Washington   Anacortes        98221   7/7/2010   \n",
       "2        West        Washington   Anacortes        98221  7/27/2011   \n",
       "3        West        Washington   Anacortes        98221  7/27/2011   \n",
       "4        West        Washington   Anacortes        98221  7/27/2011   \n",
       "...       ...               ...         ...          ...        ...   \n",
       "9421     East     West Virginia  Charleston        25314  5/14/2013   \n",
       "9422     East     West Virginia  Charleston        25314  5/14/2013   \n",
       "9423     East     West Virginia  Charleston        25314  9/12/2013   \n",
       "9424     West           Wyoming    Cheyenne        82001   2/8/2010   \n",
       "9425     West           Wyoming    Cheyenne        82001  9/12/2013   \n",
       "\n",
       "      Ship Date       Profit  Quantity ordered new    Sales Order ID  \n",
       "0     5/30/2012     1.320000                     2     5.90    88525  \n",
       "1      7/8/2010     4.560000                     4    13.01    88522  \n",
       "2     7/28/2011   -47.640000                     7    49.92    88523  \n",
       "3     7/28/2011   -30.510000                     7    41.64    88523  \n",
       "4     7/27/2011   998.202300                     8  1446.67    88523  \n",
       "...         ...          ...                   ...      ...      ...  \n",
       "9421  5/15/2013   137.860000                    13   447.87    87532  \n",
       "9422  5/14/2013   -39.070000                     3    13.23    87532  \n",
       "9423  9/14/2013 -1225.029097                     4  2215.93    87533  \n",
       "9424  2/11/2010   349.485000                     5   506.50    87530  \n",
       "9425  9/14/2013    78.062400                    23   172.48    87533  \n",
       "\n",
       "[9426 rows x 24 columns]"
      ]
     },
     "execution_count": 27,
     "metadata": {},
     "output_type": "execute_result"
    }
   ],
   "source": [
    "dataset['Product Base Margin'].fillna(dataset['Product Base Margin'].mean(),inplace=True)\n",
    "dataset"
   ]
  },
  {
   "cell_type": "markdown",
   "id": "868dbce8",
   "metadata": {},
   "source": [
    "Find the urgent orders: <br> Find the amount urgent orders to delivered?"
   ]
  },
  {
   "cell_type": "code",
   "execution_count": 15,
   "id": "8fb9179a",
   "metadata": {},
   "outputs": [
    {
     "data": {
      "application/vnd.microsoft.datawrangler.viewer.v0+json": {
       "columns": [
        {
         "name": "Order Priority",
         "rawType": "object",
         "type": "string"
        },
        {
         "name": "count",
         "rawType": "int64",
         "type": "integer"
        }
       ],
       "ref": "4265dacb-4f9c-4415-845d-db126d53ab87",
       "rows": [
        [
         "High",
         "1970"
        ],
        [
         "Low",
         "1926"
        ],
        [
         "Not Specified",
         "1881"
        ],
        [
         "Medium",
         "1844"
        ],
        [
         "Critical",
         "1805"
        ]
       ],
       "shape": {
        "columns": 1,
        "rows": 5
       }
      },
      "text/plain": [
       "Order Priority\n",
       "High             1970\n",
       "Low              1926\n",
       "Not Specified    1881\n",
       "Medium           1844\n",
       "Critical         1805\n",
       "Name: count, dtype: int64"
      ]
     },
     "execution_count": 15,
     "metadata": {},
     "output_type": "execute_result"
    }
   ],
   "source": [
    "dataset['Order Priority'] = dataset['Order Priority'].replace('Critical ','Critical')\n",
    "order_priority_counts = dataset['Order Priority'].value_counts()\n",
    "order_priority_counts"
   ]
  },
  {
   "cell_type": "markdown",
   "id": "0ab917b4",
   "metadata": {},
   "source": [
    "We find the issue in the Critical columns. let's fix it."
   ]
  },
  {
   "cell_type": "code",
   "execution_count": 16,
   "id": "9140cf28",
   "metadata": {},
   "outputs": [
    {
     "data": {
      "application/vnd.microsoft.datawrangler.viewer.v0+json": {
       "columns": [
        {
         "name": "Order Priority",
         "rawType": "object",
         "type": "string"
        },
        {
         "name": "count",
         "rawType": "int64",
         "type": "integer"
        }
       ],
       "ref": "5164d6f8-067d-4d63-8117-f364d798a4c5",
       "rows": [
        [
         "High",
         "1970"
        ],
        [
         "Low",
         "1926"
        ],
        [
         "Not Specified",
         "1881"
        ],
        [
         "Medium",
         "1844"
        ],
        [
         "Critical",
         "1805"
        ]
       ],
       "shape": {
        "columns": 1,
        "rows": 5
       }
      },
      "text/plain": [
       "Order Priority\n",
       "High             1970\n",
       "Low              1926\n",
       "Not Specified    1881\n",
       "Medium           1844\n",
       "Critical         1805\n",
       "Name: count, dtype: int64"
      ]
     },
     "execution_count": 16,
     "metadata": {},
     "output_type": "execute_result"
    }
   ],
   "source": [
    "dataset['Order Priority'] = dataset['Order Priority'].replace('Critical ','Critical')\n",
    "dataset['Order Priority'].value_counts()"
   ]
  },
  {
   "cell_type": "markdown",
   "id": "660bd659",
   "metadata": {},
   "source": [
    "Let's Create the pie chart to show the result of urgent orders."
   ]
  },
  {
   "cell_type": "code",
   "execution_count": null,
   "id": "4161a718",
   "metadata": {},
   "outputs": [
    {
     "data": {
      "image/png": "[encoded data removed]",
      "text/plain": [
       "<Figure size 400x300 with 1 Axes>"
      ]
     },
     "metadata": {},
     "output_type": "display_data"
    }
   ],
   "source": [
    "plt.figure(figsize=(4,3))\n",
    "sns.set_theme(style='whitegrid')\n",
    "\n",
    "plt.pie(\n",
    "    order_priority_counts,\n",
    "    labels=order_priority_counts,\n",
    "    autopct='%1.1f%%'\n",
    ")\n",
    "\n",
    "# Equal aspect ratio ensures that pie is drawn as a circle.\n",
    "plt.axis('equal')\n",
    "plt.savefig(\"Count of Order Priority\")\n",
    "plt.title('Count of Order Priority')\n",
    "plt.show()\n",
    "\n",
    "# We can aslo create this chart with pandas\n",
    "# order_priority_counts.plot(kind='pie', autopct='%1.1f%%', startangle=140)"
   ]
  },
  {
   "cell_type": "code",
   "execution_count": null,
   "id": "6c5f1710",
   "metadata": {},
   "outputs": [
    {
     "data": {
      "image/png": "[encoded data removed]",
      "text/plain": [
       "<Figure size 600x300 with 1 Axes>"
      ]
     },
     "metadata": {},
     "output_type": "display_data"
    }
   ],
   "source": [
    "dataset['Order Priority']=dataset['Order Priority'].replace('Critical ','Critical')\n",
    "plt.figure(figsize=(6,3))\n",
    "\n",
    "sns.countplot(\n",
    "    x='Order Priority',\n",
    "    data=dataset,\n",
    "    palette='dark',\n",
    "    hue=dataset['Order Priority']\n",
    ")\n",
    "plt.title('Count of Oreder Priority')\n",
    "\n",
    "plt.savefig(\"Count of oreder priority\")\n",
    "plt.xlabel(xlabel=None)\n",
    "plt.ylabel(ylabel=None)\n",
    "plt.show()"
   ]
  },
  {
   "cell_type": "markdown",
   "id": "bc1ee6f0",
   "metadata": {},
   "source": [
    "Now We have to analysis of ship mode column to find, Two insights <br>\n",
    "(1) We have to find, How many modes of shipping?<br>\n",
    "(2) We have to find,The majority of customers belong In which country?\n"
   ]
  },
  {
   "cell_type": "code",
   "execution_count": 92,
   "id": "033d75c1",
   "metadata": {},
   "outputs": [
    {
     "data": {
      "application/vnd.microsoft.datawrangler.viewer.v0+json": {
       "columns": [
        {
         "name": "Ship Mode",
         "rawType": "object",
         "type": "string"
        },
        {
         "name": "count",
         "rawType": "int64",
         "type": "integer"
        }
       ],
       "ref": "07b84771-8797-452f-aece-ce6c15d20a80",
       "rows": [
        [
         "Regular Air",
         "7036"
        ],
        [
         "Delivery Truck",
         "1283"
        ],
        [
         "Express Air",
         "1107"
        ]
       ],
       "shape": {
        "columns": 1,
        "rows": 3
       }
      },
      "text/plain": [
       "Ship Mode\n",
       "Regular Air       7036\n",
       "Delivery Truck    1283\n",
       "Express Air       1107\n",
       "Name: count, dtype: int64"
      ]
     },
     "execution_count": 92,
     "metadata": {},
     "output_type": "execute_result"
    }
   ],
   "source": [
    "category_of_shipping_mode = dataset['Ship Mode'].value_counts()\n",
    "category_of_shipping_mode"
   ]
  },
  {
   "cell_type": "code",
   "execution_count": 7,
   "id": "6103ca4b",
   "metadata": {},
   "outputs": [
    {
     "data": {
      "image/png": "[encoded data removed]",
      "text/plain": [
       "<Figure size 600x400 with 1 Axes>"
      ]
     },
     "metadata": {},
     "output_type": "display_data"
    }
   ],
   "source": [
    "# Create the countplot \n",
    "plt.figure(figsize=(6, 4))\n",
    "ax = sns.countplot(\n",
    "    x='Ship Mode',\n",
    "    data=dataset,\n",
    "    palette='pastel',\n",
    "    hue='Product Category',\n",
    ")\n",
    "# Use ax.bar_label() to add the count labels on each bar\n",
    "for container in ax.containers:\n",
    "    ax.bar_label(container) \n",
    "\n",
    "plt.xlabel(xlabel=None)\n",
    "plt.ylabel(ylabel=None)\n",
    "plt.title(\"Shipping Mode\")\n",
    "\n",
    "plt.savefig(\"Ship_mode\")\n",
    "plt.show()"
   ]
  },
  {
   "cell_type": "markdown",
   "id": "da4cb9d4",
   "metadata": {},
   "source": [
    "<b>Customer Segment chart </b>"
   ]
  },
  {
   "cell_type": "code",
   "execution_count": 14,
   "id": "aa87ae70",
   "metadata": {},
   "outputs": [
    {
     "data": {
      "image/png": "[encoded data removed]",
      "text/plain": [
       "<Figure size 800x400 with 1 Axes>"
      ]
     },
     "metadata": {},
     "output_type": "display_data"
    }
   ],
   "source": [
    "plt.figure(figsize=(8,4))\n",
    "vaules_of_chart = sns.countplot(x='Customer Segment',\n",
    "                   data=dataset)\n",
    "\n",
    "for x in vaules_of_chart.containers:\n",
    "    vaules_of_chart.bar_label(x)\n",
    "\n",
    "plt.title(\"Customer Segment\")\n",
    "plt.savefig('Customer Segment')\n",
    "plt.xlabel(xlabel=None)\n",
    "plt.ylabel(ylabel=None)\n",
    "plt.show()"
   ]
  },
  {
   "cell_type": "markdown",
   "id": "6f7b278e",
   "metadata": {},
   "source": [
    "To find the total category of each product"
   ]
  },
  {
   "cell_type": "code",
   "execution_count": 17,
   "id": "6d78de76",
   "metadata": {},
   "outputs": [
    {
     "data": {
      "image/png": "[encoded data removed]",
      "text/plain": [
       "<Figure size 800x400 with 1 Axes>"
      ]
     },
     "metadata": {},
     "output_type": "display_data"
    }
   ],
   "source": [
    "plt.figure(figsize=(8,4))\n",
    "values = sns.countplot(\n",
    "    x='Product Category',\n",
    "    data=dataset,\n",
    "   \n",
    ")\n",
    "\n",
    "for x in values.containers:\n",
    "    values.bar_label(x)\n",
    "\n",
    "plt.title('Product Category')\n",
    "plt.savefig(\"Product Category\")\n",
    "\n",
    "plt.xlabel(xlabel=None)\n",
    "plt.ylabel(ylabel=None)\n",
    "\n",
    "plt.show()"
   ]
  },
  {
   "cell_type": "markdown",
   "id": "389fcd04",
   "metadata": {},
   "source": [
    "Now find the each group of product sub-category"
   ]
  },
  {
   "cell_type": "code",
   "execution_count": 15,
   "id": "80aeb9cc",
   "metadata": {},
   "outputs": [
    {
     "data": {
      "image/png": "[encoded data removed]",
      "text/plain": [
       "<Figure size 1200x800 with 1 Axes>"
      ]
     },
     "metadata": {},
     "output_type": "display_data"
    }
   ],
   "source": [
    "plt.figure(figsize=(12,8))\n",
    "values = sns.countplot(\n",
    "    x='Product Category',\n",
    "    data=dataset[dataset['Product Category']=='Office Supplies'],\n",
    "    palette='pastel',\n",
    "    hue='Product Sub-Category'\n",
    ")\n",
    "\n",
    "for x in values.containers:\n",
    "    values.bar_label(x)\n",
    "\n",
    "plt.title('Product Category')\n",
    "plt.savefig(\"Product Category\")\n",
    "\n",
    "plt.xlabel(xlabel=None)\n",
    "plt.ylabel(ylabel=None)\n",
    "\n",
    "plt.show()"
   ]
  },
  {
   "cell_type": "code",
   "execution_count": 24,
   "id": "1ffa2fb1",
   "metadata": {},
   "outputs": [
    {
     "data": {
      "image/png": "[encoded data removed]",
      "text/plain": [
       "<Figure size 800x600 with 1 Axes>"
      ]
     },
     "metadata": {},
     "output_type": "display_data"
    }
   ],
   "source": [
    "plt.figure(figsize=(8,6))\n",
    "values = sns.countplot(\n",
    "    x='Product Category',\n",
    "    data=dataset[dataset['Product Category']=='Technology'],\n",
    "    palette='pastel',\n",
    "    hue='Product Sub-Category'\n",
    ")\n",
    "\n",
    "for x in values.containers:\n",
    "    values.bar_label(x)\n",
    "\n",
    "plt.title('Product Category')\n",
    "plt.savefig(\"Product Category\")\n",
    "\n",
    "plt.xlabel(xlabel=None)\n",
    "plt.ylabel(ylabel=None)\n",
    "\n",
    "plt.show()"
   ]
  },
  {
   "cell_type": "code",
   "execution_count": 23,
   "id": "8b2e8a5e",
   "metadata": {},
   "outputs": [
    {
     "data": {
      "image/png": "[encoded data removed]",
      "text/plain": [
       "<Figure size 800x600 with 1 Axes>"
      ]
     },
     "metadata": {},
     "output_type": "display_data"
    }
   ],
   "source": [
    "plt.figure(figsize=(8,6))\n",
    "values = sns.countplot(\n",
    "    x='Product Category',\n",
    "    data=dataset[dataset['Product Category']=='Furniture'],\n",
    "    palette='pastel',\n",
    "    hue='Product Sub-Category'\n",
    ")\n",
    "\n",
    "for x in values.containers:\n",
    "    values.bar_label(x)\n",
    "\n",
    "plt.title('Product Category')\n",
    "plt.savefig(\"Product Category\")\n",
    "\n",
    "plt.xlabel(xlabel=None)\n",
    "plt.ylabel(ylabel=None)\n",
    "\n",
    "plt.show()"
   ]
  },
  {
   "cell_type": "markdown",
   "id": "41f2f1d0",
   "metadata": {},
   "source": [
    "Here is we going to find How much orders each year.we start info funtion to know about dataset and datatypes"
   ]
  },
  {
   "cell_type": "code",
   "execution_count": 25,
   "id": "1e66d9d6",
   "metadata": {},
   "outputs": [
    {
     "name": "stdout",
     "output_type": "stream",
     "text": [
      "<class 'pandas.core.frame.DataFrame'>\n",
      "RangeIndex: 9426 entries, 0 to 9425\n",
      "Data columns (total 24 columns):\n",
      " #   Column                Non-Null Count  Dtype  \n",
      "---  ------                --------------  -----  \n",
      " 0   Row ID                9426 non-null   int64  \n",
      " 1   Order Priority        9426 non-null   object \n",
      " 2   Discount              9426 non-null   float64\n",
      " 3   Unit Price            9426 non-null   float64\n",
      " 4   Shipping Cost         9426 non-null   float64\n",
      " 5   Customer ID           9426 non-null   int64  \n",
      " 6   Customer Name         9426 non-null   object \n",
      " 7   Ship Mode             9426 non-null   object \n",
      " 8   Customer Segment      9426 non-null   object \n",
      " 9   Product Category      9426 non-null   object \n",
      " 10  Product Sub-Category  9426 non-null   object \n",
      " 11  Product Container     9426 non-null   object \n",
      " 12  Product Name          9426 non-null   object \n",
      " 13  Product Base Margin   9354 non-null   float64\n",
      " 14  Region                9426 non-null   object \n",
      " 15  State or Province     9426 non-null   object \n",
      " 16  City                  9426 non-null   object \n",
      " 17  Postal Code           9426 non-null   int64  \n",
      " 18  Order Date            9426 non-null   object \n",
      " 19  Ship Date             9426 non-null   object \n",
      " 20  Profit                9426 non-null   float64\n",
      " 21  Quantity ordered new  9426 non-null   int64  \n",
      " 22  Sales                 9426 non-null   float64\n",
      " 23  Order ID              9426 non-null   int64  \n",
      "dtypes: float64(6), int64(5), object(13)\n",
      "memory usage: 1.7+ MB\n"
     ]
    }
   ],
   "source": [
    "dataset.info()"
   ]
  },
  {
   "cell_type": "markdown",
   "id": "fde6cc74",
   "metadata": {},
   "source": [
    "Here we find, the datatype of order date and ship date is not datetime so first all of we have to change the datatype of these two column and create new column named order year in that we shore the data of years."
   ]
  },
  {
   "cell_type": "code",
   "execution_count": 3,
   "id": "3fe252bd",
   "metadata": {},
   "outputs": [],
   "source": [
    "dataset['Order Date'] = dataset['Order Date'].astype('datetime64[ns]')\n",
    "dataset['Ship Date'] = dataset['Ship Date'].astype('datetime64[ns]')\n",
    "\n",
    "dataset['Order_Year'] = dataset['Order Date'].dt.year"
   ]
  },
  {
   "cell_type": "markdown",
   "id": "d1741bb1",
   "metadata": {},
   "source": [
    "Now we going to check info again the dataset and check datatypes and new column is created or not."
   ]
  },
  {
   "cell_type": "code",
   "execution_count": 4,
   "id": "43131c4a",
   "metadata": {},
   "outputs": [
    {
     "name": "stdout",
     "output_type": "stream",
     "text": [
      "<class 'pandas.core.frame.DataFrame'>\n",
      "RangeIndex: 9426 entries, 0 to 9425\n",
      "Data columns (total 25 columns):\n",
      " #   Column                Non-Null Count  Dtype         \n",
      "---  ------                --------------  -----         \n",
      " 0   Row ID                9426 non-null   int64         \n",
      " 1   Order Priority        9426 non-null   object        \n",
      " 2   Discount              9426 non-null   float64       \n",
      " 3   Unit Price            9426 non-null   float64       \n",
      " 4   Shipping Cost         9426 non-null   float64       \n",
      " 5   Customer ID           9426 non-null   int64         \n",
      " 6   Customer Name         9426 non-null   object        \n",
      " 7   Ship Mode             9426 non-null   object        \n",
      " 8   Customer Segment      9426 non-null   object        \n",
      " 9   Product Category      9426 non-null   object        \n",
      " 10  Product Sub-Category  9426 non-null   object        \n",
      " 11  Product Container     9426 non-null   object        \n",
      " 12  Product Name          9426 non-null   object        \n",
      " 13  Product Base Margin   9354 non-null   float64       \n",
      " 14  Region                9426 non-null   object        \n",
      " 15  State or Province     9426 non-null   object        \n",
      " 16  City                  9426 non-null   object        \n",
      " 17  Postal Code           9426 non-null   int64         \n",
      " 18  Order Date            9426 non-null   datetime64[ns]\n",
      " 19  Ship Date             9426 non-null   datetime64[ns]\n",
      " 20  Profit                9426 non-null   float64       \n",
      " 21  Quantity ordered new  9426 non-null   int64         \n",
      " 22  Sales                 9426 non-null   float64       \n",
      " 23  Order ID              9426 non-null   int64         \n",
      " 24  Order_Year            9426 non-null   int32         \n",
      "dtypes: datetime64[ns](2), float64(6), int32(1), int64(5), object(11)\n",
      "memory usage: 1.8+ MB\n"
     ]
    }
   ],
   "source": [
    "dataset.info()"
   ]
  },
  {
   "cell_type": "markdown",
   "id": "621d7961",
   "metadata": {},
   "source": [
    "Yes here is new column created for analysis now let's find How much sales each year."
   ]
  },
  {
   "cell_type": "code",
   "execution_count": 9,
   "id": "3ac31117",
   "metadata": {},
   "outputs": [],
   "source": [
    "d=dataset['Order_Year'].value_counts()"
   ]
  },
  {
   "cell_type": "markdown",
   "id": "9e05a50e",
   "metadata": {},
   "source": [
    "Here we find sales are increasing each year let's make a chart for it."
   ]
  },
  {
   "cell_type": "code",
   "execution_count": 13,
   "id": "de089628",
   "metadata": {},
   "outputs": [
    {
     "data": {
      "image/png": "[encoded data removed]",
      "text/plain": [
       "<Figure size 640x480 with 1 Axes>"
      ]
     },
     "metadata": {},
     "output_type": "display_data"
    }
   ],
   "source": [
    "plt.title(\"Sales Per-Year\")\n",
    "sns.lineplot(x=d, y=dataset['Order_Year'])\n",
    "plt.xlabel(xlabel=None)\n",
    "plt.ylabel(ylabel=None)\n",
    "plt.show()"
   ]
  },
  {
   "cell_type": "code",
   "execution_count": 28,
   "id": "00db2729",
   "metadata": {},
   "outputs": [
    {
     "data": {
      "image/png": "[encoded data removed]",
      "text/plain": [
       "<Figure size 640x480 with 1 Axes>"
      ]
     },
     "metadata": {},
     "output_type": "display_data"
    }
   ],
   "source": [
    "ax = sns.countplot(\n",
    "    x=dataset['Order_Year'],\n",
    "    data=dataset,\n",
    "    hue=dataset['Order_Year']\n",
    ")\n",
    "for x in ax.containers:\n",
    "    ax.bar_label(x)\n",
    "\n",
    "plt.title(\"Sales Per-Year\")\n",
    "plt.xlabel(xlabel=None)\n",
    "plt.ylabel(ylabel=None)\n",
    "plt.savefig(\"Sales Per-Year\")\n",
    "plt.show()"
   ]
  },
  {
   "cell_type": "markdown",
   "id": "b09bff15",
   "metadata": {},
   "source": [
    "Let's Find the profit by product category"
   ]
  },
  {
   "cell_type": "code",
   "execution_count": 35,
   "id": "796f2bd1",
   "metadata": {},
   "outputs": [
    {
     "data": {
      "image/png": "[encoded data removed]",
      "text/plain": [
       "<Figure size 640x480 with 1 Axes>"
      ]
     },
     "metadata": {},
     "output_type": "display_data"
    }
   ],
   "source": [
    "data = sns.barplot(\n",
    "    x='Product Category',\n",
    "    y='Profit',\n",
    "    data=dataset,\n",
    "    estimator='sum'\n",
    ")\n",
    "for x in data.containers:\n",
    "    data.bar_label(x)\n",
    "\n",
    "plt.title(\"Profit by Product Category\")\n",
    "plt.xlabel(xlabel=None)\n",
    "plt.savefig(\"Profit By Product Category\")\n",
    "plt.show()"
   ]
  },
  {
   "cell_type": "code",
   "execution_count": 36,
   "id": "4506104a",
   "metadata": {},
   "outputs": [
    {
     "data": {
      "text/plain": [
       "Index(['Row ID', 'Order Priority', 'Discount', 'Unit Price', 'Shipping Cost',\n",
       "       'Customer ID', 'Customer Name', 'Ship Mode', 'Customer Segment',\n",
       "       'Product Category', 'Product Sub-Category', 'Product Container',\n",
       "       'Product Name', 'Product Base Margin', 'Region', 'State or Province',\n",
       "       'City', 'Postal Code', 'Order Date', 'Ship Date', 'Profit',\n",
       "       'Quantity ordered new', 'Sales', 'Order ID', 'Order_Year'],\n",
       "      dtype='object')"
      ]
     },
     "execution_count": 36,
     "metadata": {},
     "output_type": "execute_result"
    }
   ],
   "source": [
    "dataset.columns"
   ]
  },
  {
   "cell_type": "markdown",
   "id": "e4dd67c9",
   "metadata": {},
   "source": [
    "Let's Find the total amount of sales in each state."
   ]
  },
  {
   "cell_type": "code",
   "execution_count": 39,
   "id": "d934370b",
   "metadata": {},
   "outputs": [
    {
     "data": {
      "application/vnd.microsoft.datawrangler.viewer.v0+json": {
       "columns": [
        {
         "name": "State or Province",
         "rawType": "object",
         "type": "string"
        },
        {
         "name": "Sales",
         "rawType": "float64",
         "type": "float"
        }
       ],
       "ref": "f1b4f431-a8d4-4884-bed5-e3e9276c4fef",
       "rows": [
        [
         "Alabama",
         "126706.8"
        ],
        [
         "Arizona",
         "120396.69"
        ],
        [
         "Arkansas",
         "96189.3"
        ],
        [
         "California",
         "1161720.84"
        ],
        [
         "Colorado",
         "132210.0"
        ],
        [
         "Connecticut",
         "42302.37"
        ],
        [
         "Delaware",
         "3543.45"
        ],
        [
         "District of Columbia",
         "218868.62"
        ],
        [
         "Florida",
         "503609.51"
        ],
        [
         "Georgia",
         "196338.24"
        ],
        [
         "Idaho",
         "95642.15"
        ],
        [
         "Illinois",
         "667797.16"
        ],
        [
         "Indiana",
         "194081.59"
        ],
        [
         "Iowa",
         "88700.74"
        ],
        [
         "Kansas",
         "110586.51"
        ],
        [
         "Kentucky",
         "60760.51"
        ],
        [
         "Louisiana",
         "66611.2"
        ],
        [
         "Maine",
         "97120.51"
        ],
        [
         "Maryland",
         "124903.99"
        ],
        [
         "Massachusetts",
         "228451.71"
        ],
        [
         "Michigan",
         "324593.62"
        ],
        [
         "Minnesota",
         "190489.77"
        ],
        [
         "Mississippi",
         "41918.27"
        ],
        [
         "Missouri",
         "113702.35"
        ],
        [
         "Montana",
         "29404.45"
        ],
        [
         "Nebraska",
         "40922.6"
        ],
        [
         "Nevada",
         "20028.43"
        ],
        [
         "New Hampshire",
         "40830.05"
        ],
        [
         "New Jersey",
         "143368.22"
        ],
        [
         "New Mexico",
         "70084.38"
        ],
        [
         "New York",
         "839593.73"
        ],
        [
         "North Carolina",
         "200056.3"
        ],
        [
         "North Dakota",
         "17353.79"
        ],
        [
         "Ohio",
         "290286.12"
        ],
        [
         "Oklahoma",
         "66924.19"
        ],
        [
         "Oregon",
         "151735.08"
        ],
        [
         "Pennsylvania",
         "297371.7"
        ],
        [
         "Rhode Island",
         "18484.600000000002"
        ],
        [
         "South Carolina",
         "53866.7"
        ],
        [
         "South Dakota",
         "33375.61"
        ],
        [
         "Tennessee",
         "94881.13"
        ],
        [
         "Texas",
         "543089.0"
        ],
        [
         "Utah",
         "82935.29"
        ],
        [
         "Vermont",
         "40128.33"
        ],
        [
         "Virginia",
         "156408.26"
        ],
        [
         "Washington",
         "508816.41000000003"
        ],
        [
         "West Virginia",
         "37551.28"
        ],
        [
         "Wisconsin",
         "148724.69"
        ],
        [
         "Wyoming",
         "18465.079999999998"
        ]
       ],
       "shape": {
        "columns": 1,
        "rows": 49
       }
      },
      "text/plain": [
       "State or Province\n",
       "Alabama                  126706.80\n",
       "Arizona                  120396.69\n",
       "Arkansas                  96189.30\n",
       "California              1161720.84\n",
       "Colorado                 132210.00\n",
       "Connecticut               42302.37\n",
       "Delaware                   3543.45\n",
       "District of Columbia     218868.62\n",
       "Florida                  503609.51\n",
       "Georgia                  196338.24\n",
       "Idaho                     95642.15\n",
       "Illinois                 667797.16\n",
       "Indiana                  194081.59\n",
       "Iowa                      88700.74\n",
       "Kansas                   110586.51\n",
       "Kentucky                  60760.51\n",
       "Louisiana                 66611.20\n",
       "Maine                     97120.51\n",
       "Maryland                 124903.99\n",
       "Massachusetts            228451.71\n",
       "Michigan                 324593.62\n",
       "Minnesota                190489.77\n",
       "Mississippi               41918.27\n",
       "Missouri                 113702.35\n",
       "Montana                   29404.45\n",
       "Nebraska                  40922.60\n",
       "Nevada                    20028.43\n",
       "New Hampshire             40830.05\n",
       "New Jersey               143368.22\n",
       "New Mexico                70084.38\n",
       "New York                 839593.73\n",
       "North Carolina           200056.30\n",
       "North Dakota              17353.79\n",
       "Ohio                     290286.12\n",
       "Oklahoma                  66924.19\n",
       "Oregon                   151735.08\n",
       "Pennsylvania             297371.70\n",
       "Rhode Island              18484.60\n",
       "South Carolina            53866.70\n",
       "South Dakota              33375.61\n",
       "Tennessee                 94881.13\n",
       "Texas                    543089.00\n",
       "Utah                      82935.29\n",
       "Vermont                   40128.33\n",
       "Virginia                 156408.26\n",
       "Washington               508816.41\n",
       "West Virginia             37551.28\n",
       "Wisconsin                148724.69\n",
       "Wyoming                   18465.08\n",
       "Name: Sales, dtype: float64"
      ]
     },
     "execution_count": 39,
     "metadata": {},
     "output_type": "execute_result"
    }
   ],
   "source": [
    "Total_sale_in_state = dataset.groupby('State or Province')['Sales'].sum()\n",
    "Total_sale_in_state\n"
   ]
  },
  {
   "cell_type": "markdown",
   "id": "845aedf9",
   "metadata": {},
   "source": [
    "Let's find the total amount of order in each state."
   ]
  },
  {
   "cell_type": "code",
   "execution_count": 40,
   "id": "dc509504",
   "metadata": {},
   "outputs": [
    {
     "data": {
      "application/vnd.microsoft.datawrangler.viewer.v0+json": {
       "columns": [
        {
         "name": "State or Province",
         "rawType": "object",
         "type": "string"
        },
        {
         "name": "count",
         "rawType": "int64",
         "type": "integer"
        }
       ],
       "ref": "ae54f9ae-9a83-4877-a0bc-5dffc85220bc",
       "rows": [
        [
         "California",
         "1021"
        ],
        [
         "Texas",
         "646"
        ],
        [
         "Illinois",
         "584"
        ],
        [
         "New York",
         "574"
        ],
        [
         "Florida",
         "522"
        ],
        [
         "Ohio",
         "396"
        ],
        [
         "Washington",
         "327"
        ],
        [
         "Michigan",
         "327"
        ],
        [
         "Pennsylvania",
         "271"
        ],
        [
         "North Carolina",
         "251"
        ],
        [
         "Indiana",
         "241"
        ],
        [
         "Minnesota",
         "239"
        ],
        [
         "Massachusetts",
         "222"
        ],
        [
         "Georgia",
         "214"
        ],
        [
         "Virginia",
         "198"
        ],
        [
         "Maryland",
         "178"
        ],
        [
         "New Jersey",
         "177"
        ],
        [
         "Colorado",
         "177"
        ],
        [
         "Wisconsin",
         "169"
        ],
        [
         "Oregon",
         "168"
        ],
        [
         "Tennessee",
         "166"
        ],
        [
         "Missouri",
         "161"
        ],
        [
         "Iowa",
         "156"
        ],
        [
         "Utah",
         "146"
        ],
        [
         "Arizona",
         "134"
        ],
        [
         "Kansas",
         "133"
        ],
        [
         "Maine",
         "128"
        ],
        [
         "Alabama",
         "125"
        ],
        [
         "Arkansas",
         "123"
        ],
        [
         "Idaho",
         "114"
        ],
        [
         "South Carolina",
         "105"
        ],
        [
         "Oklahoma",
         "104"
        ],
        [
         "Louisiana",
         "89"
        ],
        [
         "New Mexico",
         "84"
        ],
        [
         "Kentucky",
         "83"
        ],
        [
         "Connecticut",
         "82"
        ],
        [
         "Mississippi",
         "78"
        ],
        [
         "Nebraska",
         "77"
        ],
        [
         "District of Columbia",
         "68"
        ],
        [
         "Vermont",
         "61"
        ],
        [
         "New Hampshire",
         "54"
        ],
        [
         "Montana",
         "49"
        ],
        [
         "West Virginia",
         "43"
        ],
        [
         "Nevada",
         "43"
        ],
        [
         "North Dakota",
         "34"
        ],
        [
         "South Dakota",
         "28"
        ],
        [
         "Wyoming",
         "21"
        ],
        [
         "Rhode Island",
         "20"
        ],
        [
         "Delaware",
         "15"
        ]
       ],
       "shape": {
        "columns": 1,
        "rows": 49
       }
      },
      "text/plain": [
       "State or Province\n",
       "California              1021\n",
       "Texas                    646\n",
       "Illinois                 584\n",
       "New York                 574\n",
       "Florida                  522\n",
       "Ohio                     396\n",
       "Washington               327\n",
       "Michigan                 327\n",
       "Pennsylvania             271\n",
       "North Carolina           251\n",
       "Indiana                  241\n",
       "Minnesota                239\n",
       "Massachusetts            222\n",
       "Georgia                  214\n",
       "Virginia                 198\n",
       "Maryland                 178\n",
       "New Jersey               177\n",
       "Colorado                 177\n",
       "Wisconsin                169\n",
       "Oregon                   168\n",
       "Tennessee                166\n",
       "Missouri                 161\n",
       "Iowa                     156\n",
       "Utah                     146\n",
       "Arizona                  134\n",
       "Kansas                   133\n",
       "Maine                    128\n",
       "Alabama                  125\n",
       "Arkansas                 123\n",
       "Idaho                    114\n",
       "South Carolina           105\n",
       "Oklahoma                 104\n",
       "Louisiana                 89\n",
       "New Mexico                84\n",
       "Kentucky                  83\n",
       "Connecticut               82\n",
       "Mississippi               78\n",
       "Nebraska                  77\n",
       "District of Columbia      68\n",
       "Vermont                   61\n",
       "New Hampshire             54\n",
       "Montana                   49\n",
       "West Virginia             43\n",
       "Nevada                    43\n",
       "North Dakota              34\n",
       "South Dakota              28\n",
       "Wyoming                   21\n",
       "Rhode Island              20\n",
       "Delaware                  15\n",
       "Name: count, dtype: int64"
      ]
     },
     "execution_count": 40,
     "metadata": {},
     "output_type": "execute_result"
    }
   ],
   "source": [
    "dataset['State or Province'].value_counts()"
   ]
  }
 ],
 "metadata": {
  "kernelspec": {
   "display_name": "Python 3",
   "language": "python",
   "name": "python3"
  },
  "language_info": {
   "codemirror_mode": {
    "name": "ipython",
    "version": 3
   },
   "file_extension": ".py",
   "mimetype": "text/x-python",
   "name": "python",
   "nbconvert_exporter": "python",
   "pygments_lexer": "ipython3",
   "version": "3.13.3"
  }
 },
 "nbformat": 4,
 "nbformat_minor": 5
}
